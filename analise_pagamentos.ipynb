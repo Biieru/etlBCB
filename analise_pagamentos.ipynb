{
 "cells": [
  {
   "cell_type": "markdown",
   "id": "6efb33eb",
   "metadata": {},
   "source": [
    "## Carregamento dos Dados\n",
    "\n",
    "O ETL gerou um banco sqlite no qual faremos uma análise exploratória "
   ]
  },
  {
   "cell_type": "code",
   "execution_count": null,
   "id": "5dafe93f",
   "metadata": {},
   "outputs": [],
   "source": [
    "import pandas as pd\n",
    "import sqlite3\n",
    "\n",
    "con = sqlite3.connect(\"src/datasets/etlBCB.db\")\n",
    "query = \"SELECT * FROM meios_pagamentos_tri\"\n",
    "df = pd.read_sql(query, con)"
   ]
  },
  {
   "cell_type": "markdown",
   "id": "3b51f8ac",
   "metadata": {},
   "source": [
    "## DELETANDO A TABELA ERRADA"
   ]
  },
  {
   "cell_type": "code",
   "execution_count": null,
   "id": "b984246e",
   "metadata": {},
   "outputs": [],
   "source": [
    "import sqlite3\n",
    "\n",
    "con = sqlite3.connect(\"src/datasets/etlBCB.db\")\n",
    "cursor = con.cursor()\n",
    "\n",
    "cursor.execute(\"DROP TABLE IF EXISTS meios_pagamenos_tri\")\n",
    "con.commit()\n",
    "con.close()"
   ]
  },
  {
   "cell_type": "markdown",
   "id": "86d74aa6",
   "metadata": {},
   "source": [
    "## MÉDIAS\n",
    "\n",
    "Para entender melhor os dados obitidos vamos gerar a média dos valores"
   ]
  },
  {
   "cell_type": "code",
   "execution_count": null,
   "id": "c8a5c1dc",
   "metadata": {},
   "outputs": [],
   "source": [
    "soma = df['valorPix'].sum()\n",
    "total = df['valorPix'].count()"
   ]
  },
  {
   "cell_type": "code",
   "execution_count": null,
   "id": "3fa1356c",
   "metadata": {},
   "outputs": [],
   "source": [
    "print(\"Média das transações PIX por trimestre: \",round(soma/total,2))"
   ]
  },
  {
   "cell_type": "code",
   "execution_count": null,
   "id": "23eef266",
   "metadata": {},
   "outputs": [],
   "source": [
    "print(\"\\nANÁLISE DETALHADA DAS TRANSAÇÕES PIX DE ACORDO COM O BANCO BEL CENTRAL\")\n",
    "\n",
    "print(f\"\\nPor trimestre o brasileiro gasta em media: R$ {df['valorPix'].mean():,.2f} milhões com pix\")\n",
    "\n",
    "soma_valores = df['valorPix'].sum()*1e6\n",
    "soma_transacoes = df['quantidadePix'].sum()*1e3\n",
    "Media_Valor = soma_valores/soma_transacoes\n",
    "print(f\"\\nPorém, o valor pix médio que o brasileiro passa é de: R$ {Media_Valor:,.2f} reais\")"
   ]
  },
  {
   "cell_type": "markdown",
   "id": "9f52016c",
   "metadata": {},
   "source": [
    "## ANÁLISE DESCRITIVA DAS VARIÁVEIS NUMÉRICAS"
   ]
  },
  {
   "cell_type": "code",
   "execution_count": null,
   "id": "21a99242",
   "metadata": {},
   "outputs": [],
   "source": [
    "# Identificando as colunas numéricas p poder começar a analisar\n",
    "colunas_numericas = df.select_dtypes(include=['int64', 'float64']).columns\n",
    "\n",
    "# Calculo das estatísticas descritivas\n",
    "estatisticas = df[colunas_numericas].describe()\n",
    "print(\"Estatísticas Descritivas das Variáveis Numéricas:\")\n",
    "print(estatisticas)\n",
    "\n",
    "# Dai o ca´lculo das médias específicas para cada variável\n",
    "print(\"\\nMédias por Variável:\")\n",
    "for coluna in colunas_numericas:\n",
    "    media = df[coluna].mean()\n",
    "    print(f\"{coluna}: {media:,.2f}\")\n",
    "\n",
    "\n",
    "# E por fim a anaalise de correlação entre as variáveis\n",
    "print(\"\\nMatriz de Correlação:\")\n",
    "correlacao = df[colunas_numericas].corr()\n",
    "print(correlacao)\n",
    "\"\"\"\"\"\n",
    "Dicionário das estatísticas:\n",
    " count: número de observações\n",
    " mean: média aritmética\n",
    " std: desvio padrão\n",
    " min: valor mínimo\n",
    " 25%: primeiro quartil\n",
    " 50%: mediana (segundo quartil)\n",
    " 75%: terceiro quartil\n",
    "max: valor máximo\n",
    "\"\"\"\"\""
   ]
  },
  {
   "cell_type": "markdown",
   "id": "f0086bf7",
   "metadata": {},
   "source": [
    "## Estudo da mediana do valorPix"
   ]
  },
  {
   "cell_type": "markdown",
   "id": "16c6f01c",
   "metadata": {},
   "source": [
    "Para encontrar a mediana precisamos ordenar os valores e encontrar os elementos centrais.\n",
    "\n",
    "Se o número de elemetos **n** for par, usamos a fórmula:\n",
    "$$ \\frac{X_\\frac{n}{2} + X_{(\\frac{n}{2}+1)}}{2} $$\n",
    "\n",
    "para determinar o elemento cetral."
   ]
  },
  {
   "cell_type": "code",
   "execution_count": null,
   "id": "99814828",
   "metadata": {},
   "outputs": [],
   "source": [
    "ordenados = df['valorPix'].sort_values()\n",
    "n = len(ordenados)\n",
    "\n",
    "print(\"A lista possui:\", n, \" elementos\")"
   ]
  },
  {
   "cell_type": "markdown",
   "id": "4aa290cb",
   "metadata": {},
   "source": [
    "Para determinar a mediana devemos encontrar os números que estão na posição 12 e 13, mas as listas em python começam a contar da posição **0**. Logo, a mediana é o valor médio entre os elementos na posição 11 e 12."
   ]
  },
  {
   "cell_type": "code",
   "execution_count": null,
   "id": "0ac607df",
   "metadata": {},
   "outputs": [],
   "source": [
    "inf = ordenados[n/2 - 1]\n",
    "sup = ordenados[n/2]\n",
    "\n",
    "mediana = (inf + sup)/2\n",
    "mediana"
   ]
  },
  {
   "cell_type": "markdown",
   "id": "ffb91882",
   "metadata": {},
   "source": [
    "Para o caso de um número de elementos ímpar a mediana é o valor central:\n",
    "\n",
    "$$ \\frac{X_{n+1}}{2}$$\n",
    "\n",
    "Nessa maneira, ele conta até o próprio 0 das listas em python."
   ]
  },
  {
   "cell_type": "markdown",
   "id": "e6e53a3c",
   "metadata": {},
   "source": [
    "## Forma de fazer pelo método do pandas"
   ]
  },
  {
   "cell_type": "code",
   "execution_count": null,
   "id": "2cc71e31",
   "metadata": {},
   "outputs": [],
   "source": [
    "mediana_pandas = df['valorPix'].median()\n",
    "print(f\"Mediana usando pandas: {mediana_pandas:,.2f}\")"
   ]
  },
  {
   "cell_type": "markdown",
   "id": "dcd850a6",
   "metadata": {},
   "source": [
    "## Medidas de Dispersão\n",
    "\n",
    "### Variância\n",
    "\n",
    "A média das diferenças entre os valores e o valor médio do conjunto de dados. Isso também é conhecido como dispersão média.\n",
    "\n",
    "$$ \\frac{|X_1-\\bar{X}|^2 +...+ |X_n-\\bar{X}|^2}{n}$$"
   ]
  },
  {
   "cell_type": "code",
   "execution_count": 38,
   "id": "d78dfcfe",
   "metadata": {},
   "outputs": [
    {
     "data": {
      "text/plain": [
       "np.float64(6162872150374.747)"
      ]
     },
     "execution_count": 38,
     "metadata": {},
     "output_type": "execute_result"
    }
   ],
   "source": [
    "df['valorPix'].var()"
   ]
  },
  {
   "cell_type": "markdown",
   "id": "939be7ed",
   "metadata": {},
   "source": [
    "OBS.: A variância apresenta valores altos e a unidade de medida é quadrada."
   ]
  },
  {
   "cell_type": "markdown",
   "id": "18e51a26",
   "metadata": {},
   "source": [
    "## Desvio-Padrão\n",
    "\n",
    "É a raiz quadrada da variância."
   ]
  },
  {
   "cell_type": "code",
   "execution_count": null,
   "id": "b4edc5dc",
   "metadata": {},
   "outputs": [
    {
     "data": {
      "text/plain": [
       "np.float64(2482513.2729503675)"
      ]
     },
     "execution_count": 39,
     "metadata": {},
     "output_type": "execute_result"
    }
   ],
   "source": [
    "df['valorPix'].std()"
   ]
  },
  {
   "cell_type": "markdown",
   "id": "766f6610",
   "metadata": {},
   "source": [
    "OBS.: Em muitos casos, 66% dos dados estão a um desvio-padrã da média do seu conjunto de dados."
   ]
  }
 ],
 "metadata": {
  "kernelspec": {
   "display_name": ".venv",
   "language": "python",
   "name": "python3"
  },
  "language_info": {
   "codemirror_mode": {
    "name": "ipython",
    "version": 3
   },
   "file_extension": ".py",
   "mimetype": "text/x-python",
   "name": "python",
   "nbconvert_exporter": "python",
   "pygments_lexer": "ipython3",
   "version": "3.12.6"
  }
 },
 "nbformat": 4,
 "nbformat_minor": 5
}
