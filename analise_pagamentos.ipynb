{
 "cells": [
  {
   "cell_type": "markdown",
   "id": "6efb33eb",
   "metadata": {},
   "source": [
    "## CONECTANDO COM O DB"
   ]
  },
  {
   "cell_type": "code",
   "execution_count": 11,
   "id": "5dafe93f",
   "metadata": {},
   "outputs": [],
   "source": [
    "import pandas as pd\n",
    "import sqlite3\n",
    "\n",
    "con = sqlite3.connect(\"src/datasets/etlBCB.db\")\n",
    "query = \"SELECT * FROM meios_pagamentos_tri\"\n",
    "df = pd.read_sql(query, con)"
   ]
  },
  {
   "cell_type": "markdown",
   "id": "3b51f8ac",
   "metadata": {},
   "source": [
    "## DELETANDO A TABELA ERRADA"
   ]
  },
  {
   "cell_type": "code",
   "execution_count": null,
   "id": "b984246e",
   "metadata": {},
   "outputs": [],
   "source": [
    "import sqlite3\n",
    "\n",
    "con = sqlite3.connect(\"src/datasets/etlBCB.db\")\n",
    "cursor = con.cursor()\n",
    "\n",
    "cursor.execute(\"DROP TABLE IF EXISTS meios_pagamenos_tri\")\n",
    "con.commit()\n",
    "con.close()"
   ]
  },
  {
   "cell_type": "markdown",
   "id": "86d74aa6",
   "metadata": {},
   "source": [
    "## MÉDIAS"
   ]
  },
  {
   "cell_type": "code",
   "execution_count": 16,
   "id": "c8a5c1dc",
   "metadata": {},
   "outputs": [],
   "source": [
    "soma = df['valorPix'].sum()\n",
    "total = df['valorPix'].count()"
   ]
  },
  {
   "cell_type": "code",
   "execution_count": 20,
   "id": "3fa1356c",
   "metadata": {},
   "outputs": [
    {
     "name": "stdout",
     "output_type": "stream",
     "text": [
      "Média das transações PIX por trimestre:  2490206.54\n"
     ]
    }
   ],
   "source": [
    "print(\"Média das transações PIX por trimestre: \",round(soma/total,2))"
   ]
  },
  {
   "cell_type": "code",
   "execution_count": 90,
   "id": "23eef266",
   "metadata": {},
   "outputs": [
    {
     "name": "stdout",
     "output_type": "stream",
     "text": [
      "\n",
      "ANÁLISE DETALHADA DAS TRANSAÇÕES PIX DE ACORDO COM O BANCO BEL CENTRAL\n",
      "\n",
      "Por trimestre o brasileiro gasta em media: R$ 2,490,206.54 milhões com pix\n",
      "\n",
      "Porém, o valor pix médio que o brasileiro passa é de: R$ 430.71 reais\n"
     ]
    }
   ],
   "source": [
    "print(\"\\nANÁLISE DETALHADA DAS TRANSAÇÕES PIX DE ACORDO COM O BANCO BEL CENTRAL\")\n",
    "\n",
    "print(f\"\\nPor trimestre o brasileiro gasta em media: R$ {df['valorPix'].mean():,.2f} milhões com pix\")\n",
    "\n",
    "soma_valores = df['valorPix'].sum()*1e6\n",
    "soma_transacoes = df['quantidadePix'].sum()*1e3\n",
    "Media_Valor = soma_valores/soma_transacoes\n",
    "print(f\"\\nPorém, o valor pix médio que o brasileiro passa é de: R$ {Media_Valor:,.2f} reais\")"
   ]
  }
 ],
 "metadata": {
  "kernelspec": {
   "display_name": ".venv",
   "language": "python",
   "name": "python3"
  },
  "language_info": {
   "codemirror_mode": {
    "name": "ipython",
    "version": 3
   },
   "file_extension": ".py",
   "mimetype": "text/x-python",
   "name": "python",
   "nbconvert_exporter": "python",
   "pygments_lexer": "ipython3",
   "version": "3.12.6"
  }
 },
 "nbformat": 4,
 "nbformat_minor": 5
}
